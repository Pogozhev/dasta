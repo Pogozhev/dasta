{
 "cells": [
  {
   "cell_type": "code",
   "execution_count": null,
   "metadata": {},
   "outputs": [],
   "source": [
    "!pip install --upgrade --user ortools"
   ]
  },
  {
   "cell_type": "code",
   "execution_count": 2,
   "metadata": {},
   "outputs": [],
   "source": [
    "import json\n",
    "import pandas as pd\n",
    "from ortools.constraint_solver import routing_enums_pb2\n",
    "from ortools.constraint_solver import pywrapcp\n",
    "import matplotlib.pyplot as plt\n",
    "with open('hard_input.json', mode='r') as f:\n",
    "    dat = json.load(f)"
   ]
  },
  {
   "cell_type": "code",
   "execution_count": 3,
   "metadata": {},
   "outputs": [],
   "source": [
    "couriers = pd.DataFrame(data = dat['couriers'])\n",
    "depots = pd.DataFrame(data = dat['depots'])\n",
    "orders = pd.DataFrame(data = dat['orders'])"
   ]
  },
  {
   "cell_type": "code",
   "execution_count": 4,
   "metadata": {},
   "outputs": [],
   "source": [
    "orders.iloc[0]['payment'] =400\n",
    "orders.iloc[3]['payment'] = 1500\n",
    "orders.iloc[4]['payment'] = 200000"
   ]
  },
  {
   "cell_type": "code",
   "execution_count": 5,
   "metadata": {},
   "outputs": [],
   "source": [
    "def pay(x0,x1,y0,y1,data1):\n",
    "    if (len(data1[(data1['pickup_location_x'] == x0) & \n",
    "                  (data1['pickup_location_y'] == y0) &\n",
    "                  (data1['dropoff_location_x'] == x1) &\n",
    "                  (data1['dropoff_location_y'] == y1)]) != 0):\n",
    "        index = data1[(data1['pickup_location_x'] == x0) & \n",
    "                  (data1['pickup_location_y'] == y0) &\n",
    "                  (data1['dropoff_location_x'] == x1) &\n",
    "                  (data1['dropoff_location_y'] == y1)].index.values.astype(int)\n",
    "        payment = data1.iloc[index]['payment']\n",
    "        print(payment)\n",
    "    else:\n",
    "        payment=0\n",
    "    return(payment)"
   ]
  },
  {
   "cell_type": "code",
   "execution_count": 6,
   "metadata": {},
   "outputs": [],
   "source": [
    "def TtoSend(x0,x1,y0,y1,data1):\n",
    "    travel_minutes = 10 + (abs(x0 - x1) + abs(y0 - y1))\n",
    "    WELLNES = -pay(x0,x1,y0,y1,data1) + travel_minutes*2\n",
    "    ##########Если че надо добавить условия, чтобы пропускать WELLNES >0\n",
    "    return(WELLNES)\n",
    "\n",
    "def compute_time_matrix(locations,data1):\n",
    "    timesM = {}\n",
    "    for from_counter, from_node in enumerate(locations):\n",
    "        timesM[from_counter] = {}\n",
    "        for to_counter, to_node in enumerate(locations):\n",
    "            if from_counter == to_counter:\n",
    "                timesM[from_counter][to_counter] = 0\n",
    "            else:\n",
    "                # Time~Distance\n",
    "                timesM[from_counter][to_counter] =TtoSend(from_node[0],to_node[0],from_node[1],to_node[1],data1)\n",
    "    \n",
    "    return(timesM)"
   ]
  },
  {
   "cell_type": "code",
   "execution_count": 7,
   "metadata": {},
   "outputs": [
    {
     "data": {
      "text/html": [
       "<div>\n",
       "<style scoped>\n",
       "    .dataframe tbody tr th:only-of-type {\n",
       "        vertical-align: middle;\n",
       "    }\n",
       "\n",
       "    .dataframe tbody tr th {\n",
       "        vertical-align: top;\n",
       "    }\n",
       "\n",
       "    .dataframe thead th {\n",
       "        text-align: right;\n",
       "    }\n",
       "</style>\n",
       "<table border=\"1\" class=\"dataframe\">\n",
       "  <thead>\n",
       "    <tr style=\"text-align: right;\">\n",
       "      <th></th>\n",
       "      <th>courier_id</th>\n",
       "      <th>location_x</th>\n",
       "      <th>location_y</th>\n",
       "    </tr>\n",
       "  </thead>\n",
       "  <tbody>\n",
       "    <tr>\n",
       "      <th>0</th>\n",
       "      <td>1</td>\n",
       "      <td>20</td>\n",
       "      <td>20</td>\n",
       "    </tr>\n",
       "    <tr>\n",
       "      <th>1</th>\n",
       "      <td>2</td>\n",
       "      <td>50</td>\n",
       "      <td>50</td>\n",
       "    </tr>\n",
       "    <tr>\n",
       "      <th>2</th>\n",
       "      <td>3</td>\n",
       "      <td>150</td>\n",
       "      <td>20</td>\n",
       "    </tr>\n",
       "    <tr>\n",
       "      <th>3</th>\n",
       "      <td>4</td>\n",
       "      <td>25</td>\n",
       "      <td>150</td>\n",
       "    </tr>\n",
       "    <tr>\n",
       "      <th>4</th>\n",
       "      <td>5</td>\n",
       "      <td>100</td>\n",
       "      <td>300</td>\n",
       "    </tr>\n",
       "  </tbody>\n",
       "</table>\n",
       "</div>"
      ],
      "text/plain": [
       "   courier_id  location_x  location_y\n",
       "0           1          20          20\n",
       "1           2          50          50\n",
       "2           3         150          20\n",
       "3           4          25         150\n",
       "4           5         100         300"
      ]
     },
     "execution_count": 7,
     "metadata": {},
     "output_type": "execute_result"
    }
   ],
   "source": [
    "couriers"
   ]
  },
  {
   "cell_type": "code",
   "execution_count": 8,
   "metadata": {},
   "outputs": [
    {
     "data": {
      "text/html": [
       "<div>\n",
       "<style scoped>\n",
       "    .dataframe tbody tr th:only-of-type {\n",
       "        vertical-align: middle;\n",
       "    }\n",
       "\n",
       "    .dataframe tbody tr th {\n",
       "        vertical-align: top;\n",
       "    }\n",
       "\n",
       "    .dataframe thead th {\n",
       "        text-align: right;\n",
       "    }\n",
       "</style>\n",
       "<table border=\"1\" class=\"dataframe\">\n",
       "  <thead>\n",
       "    <tr style=\"text-align: right;\">\n",
       "      <th></th>\n",
       "      <th>dropoff_from</th>\n",
       "      <th>dropoff_location_x</th>\n",
       "      <th>dropoff_location_y</th>\n",
       "      <th>dropoff_point_id</th>\n",
       "      <th>dropoff_to</th>\n",
       "      <th>order_id</th>\n",
       "      <th>payment</th>\n",
       "      <th>pickup_from</th>\n",
       "      <th>pickup_location_x</th>\n",
       "      <th>pickup_location_y</th>\n",
       "      <th>pickup_point_id</th>\n",
       "      <th>pickup_to</th>\n",
       "    </tr>\n",
       "  </thead>\n",
       "  <tbody>\n",
       "    <tr>\n",
       "      <th>0</th>\n",
       "      <td>360</td>\n",
       "      <td>60</td>\n",
       "      <td>110</td>\n",
       "      <td>60001</td>\n",
       "      <td>1180</td>\n",
       "      <td>10001</td>\n",
       "      <td>400</td>\n",
       "      <td>360</td>\n",
       "      <td>20</td>\n",
       "      <td>100</td>\n",
       "      <td>40001</td>\n",
       "      <td>1380</td>\n",
       "    </tr>\n",
       "    <tr>\n",
       "      <th>1</th>\n",
       "      <td>560</td>\n",
       "      <td>63</td>\n",
       "      <td>130</td>\n",
       "      <td>60002</td>\n",
       "      <td>1380</td>\n",
       "      <td>10002</td>\n",
       "      <td>900</td>\n",
       "      <td>360</td>\n",
       "      <td>55</td>\n",
       "      <td>100</td>\n",
       "      <td>40002</td>\n",
       "      <td>1380</td>\n",
       "    </tr>\n",
       "    <tr>\n",
       "      <th>2</th>\n",
       "      <td>360</td>\n",
       "      <td>67</td>\n",
       "      <td>150</td>\n",
       "      <td>60003</td>\n",
       "      <td>720</td>\n",
       "      <td>10003</td>\n",
       "      <td>900</td>\n",
       "      <td>420</td>\n",
       "      <td>16</td>\n",
       "      <td>104</td>\n",
       "      <td>40003</td>\n",
       "      <td>720</td>\n",
       "    </tr>\n",
       "    <tr>\n",
       "      <th>3</th>\n",
       "      <td>800</td>\n",
       "      <td>147</td>\n",
       "      <td>84</td>\n",
       "      <td>60004</td>\n",
       "      <td>1400</td>\n",
       "      <td>10004</td>\n",
       "      <td>1500</td>\n",
       "      <td>600</td>\n",
       "      <td>66</td>\n",
       "      <td>92</td>\n",
       "      <td>40004</td>\n",
       "      <td>1200</td>\n",
       "    </tr>\n",
       "    <tr>\n",
       "      <th>4</th>\n",
       "      <td>960</td>\n",
       "      <td>164</td>\n",
       "      <td>91</td>\n",
       "      <td>60005</td>\n",
       "      <td>1380</td>\n",
       "      <td>10005</td>\n",
       "      <td>200000</td>\n",
       "      <td>480</td>\n",
       "      <td>156</td>\n",
       "      <td>30</td>\n",
       "      <td>40005</td>\n",
       "      <td>1380</td>\n",
       "    </tr>\n",
       "  </tbody>\n",
       "</table>\n",
       "</div>"
      ],
      "text/plain": [
       "   dropoff_from  dropoff_location_x  dropoff_location_y  dropoff_point_id  \\\n",
       "0           360                  60                 110             60001   \n",
       "1           560                  63                 130             60002   \n",
       "2           360                  67                 150             60003   \n",
       "3           800                 147                  84             60004   \n",
       "4           960                 164                  91             60005   \n",
       "\n",
       "   dropoff_to  order_id  payment  pickup_from  pickup_location_x  \\\n",
       "0        1180     10001      400          360                 20   \n",
       "1        1380     10002      900          360                 55   \n",
       "2         720     10003      900          420                 16   \n",
       "3        1400     10004     1500          600                 66   \n",
       "4        1380     10005   200000          480                156   \n",
       "\n",
       "   pickup_location_y  pickup_point_id  pickup_to  \n",
       "0                100            40001       1380  \n",
       "1                100            40002       1380  \n",
       "2                104            40003        720  \n",
       "3                 92            40004       1200  \n",
       "4                 30            40005       1380  "
      ]
     },
     "execution_count": 8,
     "metadata": {},
     "output_type": "execute_result"
    }
   ],
   "source": [
    "orders"
   ]
  },
  {
   "cell_type": "code",
   "execution_count": 9,
   "metadata": {},
   "outputs": [],
   "source": [
    "start_cords=[]\n",
    "end_cords=[]\n",
    "for i in range(len(orders)):\n",
    "    start_cords.append([orders['pickup_location_x'][i],orders['pickup_location_y'][i]])\n",
    "    end_cords.append([orders['dropoff_location_x'][i],orders['dropoff_location_y'][i]])"
   ]
  },
  {
   "cell_type": "code",
   "execution_count": 10,
   "metadata": {},
   "outputs": [
    {
     "data": {
      "text/plain": [
       "[[20, 100], [55, 100], [16, 104], [66, 92], [156, 30]]"
      ]
     },
     "execution_count": 10,
     "metadata": {},
     "output_type": "execute_result"
    }
   ],
   "source": [
    "start_cords"
   ]
  },
  {
   "cell_type": "code",
   "execution_count": 11,
   "metadata": {},
   "outputs": [],
   "source": [
    "cors = list(zip(couriers.location_x, couriers.location_y))\n",
    "startCORS = [list(a) for a in cors]"
   ]
  },
  {
   "cell_type": "code",
   "execution_count": 12,
   "metadata": {},
   "outputs": [],
   "source": [
    "ALL = startCORS + start_cords\n",
    "ALL\n",
    "start_cords = ALL + end_cords\n",
    "###HAS TO BE CHANGED"
   ]
  },
  {
   "cell_type": "code",
   "execution_count": 13,
   "metadata": {},
   "outputs": [
    {
     "name": "stdout",
     "output_type": "stream",
     "text": [
      "[[60, 110], [63, 130], [67, 150], [147, 84], [164, 91]]\n",
      "[[20, 20], [50, 50], [150, 20], [25, 150], [100, 300], [20, 100], [55, 100], [16, 104], [66, 92], [156, 30], [60, 110], [63, 130], [67, 150], [147, 84], [164, 91]]\n"
     ]
    }
   ],
   "source": [
    "print(end_cords)\n",
    "print(start_cords)\n",
    "start_cords"
   ]
  },
  {
   "cell_type": "code",
   "execution_count": 33,
   "metadata": {},
   "outputs": [
    {
     "name": "stdout",
     "output_type": "stream",
     "text": [
      "None\n"
     ]
    }
   ],
   "source": [
    "######Block to work properly#########\n",
    "'''IMPORTANT STAFF TO CHANGE!!!!!!'''\n",
    "#manager = pywrapcp.RoutingIndexManager(len(data['distance_matrix']), data['num_vehicles'], data['depot'])\n",
    "manager = pywrapcp.RoutingIndexManager(len(orders), len(couriers), 0)\n",
    "routing = pywrapcp.RoutingModel(manager)\n",
    "\n",
    "time_matrix = compute_time_matrix(ALL,orders)\n",
    "\n",
    "def time_callback(from_index, to_index):\n",
    "    \"\"\"Returns the time between the two nodes.\"\"\"\n",
    "    # Convert from routing variable Index to TIMES matrix NodeIndex.\n",
    "    from_node = manager.IndexToNode(from_index)\n",
    "    to_node = manager.IndexToNode(to_index)\n",
    "    return time_matrix[from_node][to_node]\n",
    "#Code below could or have to be changed\n",
    "transit_callback_index = routing.RegisterTransitCallback(time_callback)\n",
    "routing.SetArcCostEvaluatorOfAllVehicles(transit_callback_index)\n",
    "routing.SetArcCostEvaluatorOfAllVehicles(transit_callback_index)\n",
    "\n",
    "#################################################\n",
    "dimension_name = 'Distance'\n",
    "routing.AddDimension(\n",
    "        transit_callback_index,\n",
    "        0,  # no slack\n",
    "        300,  # HAS BEEN CHANGED\n",
    "        True,  # start cumul to zero\n",
    "        dimension_name)\n",
    "distance_dimension = routing.GetDimensionOrDie(dimension_name)\n",
    "distance_dimension.SetGlobalSpanCostCoefficient(500)#HAS TO BE CHANGED!!!!\n",
    "\n",
    "##################################################\n",
    "\n",
    "search_parameters = pywrapcp.DefaultRoutingSearchParameters()\n",
    "search_parameters.first_solution_strategy = (routing_enums_pb2.FirstSolutionStrategy.PATH_CHEAPEST_ARC)\n",
    "#search_parameters.time_limit.seconds = 30\n",
    "assignment = routing.SolveWithParameters(search_parameters)\n",
    "\n",
    "#################################################\n",
    "solution = routing.SolveWithParameters(search_parameters)\n",
    "#################################################\n",
    "print(solution)"
   ]
  },
  {
   "cell_type": "code",
   "execution_count": 15,
   "metadata": {},
   "outputs": [
    {
     "name": "stdout",
     "output_type": "stream",
     "text": [
      "0    400\n",
      "Name: payment, dtype: int64\n",
      "1    900\n",
      "Name: payment, dtype: int64\n",
      "2    900\n",
      "Name: payment, dtype: int64\n",
      "3    1500\n",
      "Name: payment, dtype: int64\n",
      "4    200000\n",
      "Name: payment, dtype: int64\n"
     ]
    },
    {
     "data": {
      "text/plain": [
       "{0: 290,\n",
       " 1: 270,\n",
       " 2: 530,\n",
       " 3: 0,\n",
       " 4: 470,\n",
       " 5: 130,\n",
       " 6: 180,\n",
       " 7: 130,\n",
       " 8: 218,\n",
       " 9: 522,\n",
       " 10: 170,\n",
       " 11: 136,\n",
       " 12: 104,\n",
       " 13: 396,\n",
       " 14: 416}"
      ]
     },
     "execution_count": 15,
     "metadata": {},
     "output_type": "execute_result"
    }
   ],
   "source": [
    "compute_time_matrix(start_cords,orders)[3]"
   ]
  },
  {
   "cell_type": "code",
   "execution_count": 20,
   "metadata": {},
   "outputs": [],
   "source": [
    "solution"
   ]
  },
  {
   "cell_type": "code",
   "execution_count": 18,
   "metadata": {},
   "outputs": [],
   "source": [
    "def print_solution(manager, routing, assignment,solution):\n",
    "    \"\"\"Prints assignment on console.\"\"\"\n",
    "    max_route_distance = 0\n",
    "    for vehicle_id in range(len(couriers)):\n",
    "        index = routing.Start(0)\n",
    "        plan_output = 'Route for vehicle 0:\\n'\n",
    "        route_distance = 0\n",
    "        while not routing.IsEnd(index):\n",
    "            plan_output += ' {} ->'.format(manager.IndexToNode(index))\n",
    "            previous_index = index\n",
    "            index = solution.Value(routing.NextVar(index))\n",
    "            route_distance += routing.GetArcCostForVehicle(previous_index, index,vehicle_id)\n",
    "        plan_output += ' {}\\n'.format(manager.IndexToNode(index))\n",
    "        print(plan_output)\n",
    "        plan_output += 'Route distance: {}miles\\n'.format(route_distance)\n",
    "        max_route_distance = max(route_distance, max_route_distance)\n",
    "    print('Maximum of the route distances: {}m'.format(max_route_distance))\n",
    "    return(manager, routing, assignment,solution)\n"
   ]
  },
  {
   "cell_type": "code",
   "execution_count": 19,
   "metadata": {},
   "outputs": [
    {
     "ename": "AttributeError",
     "evalue": "'NoneType' object has no attribute 'Value'",
     "output_type": "error",
     "traceback": [
      "\u001b[1;31m---------------------------------------------------------------------------\u001b[0m",
      "\u001b[1;31mAttributeError\u001b[0m                            Traceback (most recent call last)",
      "\u001b[1;32m<ipython-input-19-5abddf87f65d>\u001b[0m in \u001b[0;36m<module>\u001b[1;34m()\u001b[0m\n\u001b[1;32m----> 1\u001b[1;33m \u001b[0mmanager1\u001b[0m\u001b[1;33m,\u001b[0m \u001b[0mrouting1\u001b[0m\u001b[1;33m,\u001b[0m \u001b[0massignment1\u001b[0m\u001b[1;33m=\u001b[0m\u001b[0mprint_solution\u001b[0m\u001b[1;33m(\u001b[0m\u001b[0mmanager\u001b[0m\u001b[1;33m,\u001b[0m \u001b[0mrouting\u001b[0m\u001b[1;33m,\u001b[0m \u001b[0massignment\u001b[0m\u001b[1;33m,\u001b[0m\u001b[0msolution\u001b[0m\u001b[1;33m)\u001b[0m\u001b[1;33m\u001b[0m\u001b[0m\n\u001b[0m",
      "\u001b[1;32m<ipython-input-18-e8a3ee85a59c>\u001b[0m in \u001b[0;36mprint_solution\u001b[1;34m(manager, routing, assignment, solution)\u001b[0m\n\u001b[0;32m      9\u001b[0m             \u001b[0mplan_output\u001b[0m \u001b[1;33m+=\u001b[0m \u001b[1;34m' {} ->'\u001b[0m\u001b[1;33m.\u001b[0m\u001b[0mformat\u001b[0m\u001b[1;33m(\u001b[0m\u001b[0mmanager\u001b[0m\u001b[1;33m.\u001b[0m\u001b[0mIndexToNode\u001b[0m\u001b[1;33m(\u001b[0m\u001b[0mindex\u001b[0m\u001b[1;33m)\u001b[0m\u001b[1;33m)\u001b[0m\u001b[1;33m\u001b[0m\u001b[0m\n\u001b[0;32m     10\u001b[0m             \u001b[0mprevious_index\u001b[0m \u001b[1;33m=\u001b[0m \u001b[0mindex\u001b[0m\u001b[1;33m\u001b[0m\u001b[0m\n\u001b[1;32m---> 11\u001b[1;33m             \u001b[0mindex\u001b[0m \u001b[1;33m=\u001b[0m \u001b[0msolution\u001b[0m\u001b[1;33m.\u001b[0m\u001b[0mValue\u001b[0m\u001b[1;33m(\u001b[0m\u001b[0mrouting\u001b[0m\u001b[1;33m.\u001b[0m\u001b[0mNextVar\u001b[0m\u001b[1;33m(\u001b[0m\u001b[0mindex\u001b[0m\u001b[1;33m)\u001b[0m\u001b[1;33m)\u001b[0m\u001b[1;33m\u001b[0m\u001b[0m\n\u001b[0m\u001b[0;32m     12\u001b[0m             \u001b[0mroute_distance\u001b[0m \u001b[1;33m+=\u001b[0m \u001b[0mrouting\u001b[0m\u001b[1;33m.\u001b[0m\u001b[0mGetArcCostForVehicle\u001b[0m\u001b[1;33m(\u001b[0m\u001b[0mprevious_index\u001b[0m\u001b[1;33m,\u001b[0m \u001b[0mindex\u001b[0m\u001b[1;33m,\u001b[0m\u001b[0mvehicle_id\u001b[0m\u001b[1;33m)\u001b[0m\u001b[1;33m\u001b[0m\u001b[0m\n\u001b[0;32m     13\u001b[0m         \u001b[0mplan_output\u001b[0m \u001b[1;33m+=\u001b[0m \u001b[1;34m' {}\\n'\u001b[0m\u001b[1;33m.\u001b[0m\u001b[0mformat\u001b[0m\u001b[1;33m(\u001b[0m\u001b[0mmanager\u001b[0m\u001b[1;33m.\u001b[0m\u001b[0mIndexToNode\u001b[0m\u001b[1;33m(\u001b[0m\u001b[0mindex\u001b[0m\u001b[1;33m)\u001b[0m\u001b[1;33m)\u001b[0m\u001b[1;33m\u001b[0m\u001b[0m\n",
      "\u001b[1;31mAttributeError\u001b[0m: 'NoneType' object has no attribute 'Value'"
     ]
    }
   ],
   "source": [
    "manager1, routing1, assignment1=print_solution(manager, routing, assignment,solution)"
   ]
  },
  {
   "cell_type": "code",
   "execution_count": null,
   "metadata": {},
   "outputs": [],
   "source": [
    "print(assignment1.ObjectiveValue())# All time for one vehicle\n",
    "print(assignment1.Value(routing.NextVar(0)))# указывает куда надо идти из точки 0.\n",
    "print(assignment1.Value(routing.NextVar(2)))# the same\n",
    "print(\"Time elapsed between 2 and 1 points for 0 vehicle: \",routing.GetArcCostForVehicle(2,1,0))\n",
    "print(\"CHECKING\")\n",
    "print(start_cords)\n",
    "print('Chech with elapsed time',TtoSend(16,55,104,100,orders))\n",
    "#IT WORKS!!!!\n",
    "sorted_path =[]\n",
    "index_to_start = 0\n",
    "index = routing1.Start(index_to_start)\n",
    "while not routing1.IsEnd(index):\n",
    "        sorted_path.append(start_cords[index])\n",
    "        previous_index = index\n",
    "        index = assignment.Value(routing.NextVar(index))\n",
    "print(sorted_path)"
   ]
  },
  {
   "cell_type": "code",
   "execution_count": 31,
   "metadata": {},
   "outputs": [],
   "source": [
    "def packaged_function(data):\n",
    "    # Create the routing index manager.\n",
    "    manager = pywrapcp.RoutingIndexManager(\n",
    "        len(data['distance_matrix']), data['num_vehicles'], data['depot']\n",
    "    )\n",
    "\n",
    "    # Create Routing Model.\n",
    "    routing = pywrapcp.RoutingModel(manager)\n",
    "\n",
    "    transit_callback_index = routing.RegisterTransitCallback(distance_callback)\n",
    "\n",
    "    # Define cost of each arc.\n",
    "    routing.SetArcCostEvaluatorOfAllVehicles(transit_callback_index)\n",
    "\n",
    "    # Setting first solution heuristic.\n",
    "    search_parameters = pywrapcp.DefaultRoutingSearchParameters()\n",
    "\n",
    "    search_parameters.first_solution_strategy = (\n",
    "        routing_enums_pb2.FirstSolutionStrategy.PATH_CHEAPEST_ARC\n",
    "    )\n",
    "\n",
    "    search_parameters.time_limit.seconds = 30\n",
    "\n",
    "    # Solve the problem.\n",
    "    assignment = routing.SolveWithParameters(search_parameters)\n",
    "\n",
    "    return (manager, routing, assignment)"
   ]
  },
  {
   "cell_type": "code",
   "execution_count": 32,
   "metadata": {},
   "outputs": [
    {
     "ename": "SyntaxError",
     "evalue": "invalid syntax (<ipython-input-32-abae83882c06>, line 1)",
     "output_type": "error",
     "traceback": [
      "\u001b[1;36m  File \u001b[1;32m\"<ipython-input-32-abae83882c06>\"\u001b[1;36m, line \u001b[1;32m1\u001b[0m\n\u001b[1;33m    [x,y for a in sorted_path[a]]\u001b[0m\n\u001b[1;37m           ^\u001b[0m\n\u001b[1;31mSyntaxError\u001b[0m\u001b[1;31m:\u001b[0m invalid syntax\n"
     ]
    }
   ],
   "source": [
    "[x,y for a in sorted_path[a]]"
   ]
  },
  {
   "cell_type": "code",
   "execution_count": 33,
   "metadata": {},
   "outputs": [],
   "source": [
    "x = []\n",
    "y = []\n",
    "for a in range(len(sorted_path)):\n",
    "    x.append(sorted_path[a][0])\n",
    "    y.append(sorted_path[a][1])"
   ]
  },
  {
   "cell_type": "code",
   "execution_count": 34,
   "metadata": {},
   "outputs": [
    {
     "data": {
      "text/plain": [
       "[<matplotlib.lines.Line2D at 0x240445cca90>]"
      ]
     },
     "execution_count": 34,
     "metadata": {},
     "output_type": "execute_result"
    },
    {
     "data": {
      "image/png": "[encoded data removed]",
      "text/plain": [
       "<Figure size 432x288 with 1 Axes>"
      ]
     },
     "metadata": {},
     "output_type": "display_data"
    }
   ],
   "source": [
    "import matplotlib.pyplot as plt\n",
    "plt.plot(x,y)"
   ]
  },
  {
   "cell_type": "code",
   "execution_count": 35,
   "metadata": {},
   "outputs": [
    {
     "ename": "IndentationError",
     "evalue": "unexpected indent (<ipython-input-35-8eefb99aa984>, line 7)",
     "output_type": "error",
     "traceback": [
      "\u001b[1;36m  File \u001b[1;32m\"<ipython-input-35-8eefb99aa984>\"\u001b[1;36m, line \u001b[1;32m7\u001b[0m\n\u001b[1;33m    while not routing.IsEnd(index):\u001b[0m\n\u001b[1;37m    ^\u001b[0m\n\u001b[1;31mIndentationError\u001b[0m\u001b[1;31m:\u001b[0m unexpected indent\n"
     ]
    }
   ],
   "source": [
    "\"\"\"Prints solution on console.\"\"\"\n",
    "max_route_distance = 0\n",
    "for vehicle_id in range(data['num_vehicles']):\n",
    "    index = routing.Start(vehicle_id)\n",
    "    plan_output = 'Route for vehicle {}:\\n'.format(vehicle_id)\n",
    "    route_distance = 0\n",
    "        while not routing.IsEnd(index):\n",
    "            plan_output += ' {} -> '.format(manager.IndexToNode(index))\n",
    "            previous_index = index\n",
    "            index = solution.Value(routing.NextVar(index))\n",
    "            route_distance += routing.GetArcCostForVehicle(\n",
    "                previous_index, index, vehicle_id)\n",
    "        plan_output += '{}\\n'.format(manager.IndexToNode(index))\n",
    "        plan_output += 'Distance of the route: {}m\\n'.format(route_distance)\n",
    "        print(plan_output)\n",
    "        max_route_distance = max(route_distance, max_route_distance)\n",
    "    print('Maximum of the route distances: {}m'.format(max_route_distance))\n",
    "\n",
    "\n",
    "\n",
    "\n",
    "def main():\n",
    "    \"\"\"Solve the CVRP problem.\"\"\"\n",
    "    # Instantiate the data problem.\n",
    "    data = create_data_model()\n",
    "\n",
    "    # Create the routing index manager.\n",
    "    manager = pywrapcp.RoutingIndexManager(\n",
    "        len(data['distance_matrix']), data['num_vehicles'], data['depot'])\n",
    "\n",
    "    # Create Routing Model.\n",
    "    routing = pywrapcp.RoutingModel(manager)\n",
    "\n",
    "\n",
    "    # Create and register a transit callback.\n",
    "    def distance_callback(from_index, to_index):\n",
    "        \"\"\"Returns the distance between the two nodes.\"\"\"\n",
    "        # Convert from routing variable Index to distance matrix NodeIndex.\n",
    "        from_node = manager.IndexToNode(from_index)\n",
    "        to_node = manager.IndexToNode(to_index)\n",
    "        return data['distance_matrix'][from_node][to_node]\n",
    "\n",
    "    transit_callback_index = routing.RegisterTransitCallback(distance_callback)\n",
    "\n",
    "    # Define cost of each arc.\n",
    "    routing.SetArcCostEvaluatorOfAllVehicles(transit_callback_index)\n",
    "\n",
    "    # Add Distance constraint.\n",
    "    dimension_name = 'Distance'\n",
    "    routing.AddDimension(\n",
    "        transit_callback_index,\n",
    "        0,  # no slack\n",
    "        3000,  # vehicle maximum travel distance\n",
    "        True,  # start cumul to zero\n",
    "        dimension_name)\n",
    "    distance_dimension = routing.GetDimensionOrDie(dimension_name)\n",
    "    distance_dimension.SetGlobalSpanCostCoefficient(100)\n",
    "\n",
    "    # Setting first solution heuristic.\n",
    "    search_parameters = pywrapcp.DefaultRoutingSearchParameters()\n",
    "    search_parameters.first_solution_strategy = (\n",
    "        routing_enums_pb2.FirstSolutionStrategy.PATH_CHEAPEST_ARC)\n",
    "\n",
    "    # Solve the problem.\n",
    "    solution = routing.SolveWithParameters(search_parameters)\n",
    "\n",
    "    # Print solution on console.\n",
    "    if solution:\n",
    "        print_solution(data, manager, routing, solution)\n",
    "\n"
   ]
  },
  {
   "cell_type": "code",
   "execution_count": null,
   "metadata": {},
   "outputs": [],
   "source": [
    "routing.AddDimension(\n",
    "        transit_callback_index,\n",
    "        0,  # no slack\n",
    "        3000000,  # HAS BEEN CHANGED\n",
    "        False,  # start cumul to zero\n",
    "        dimension_name)\n"
   ]
  },
  {
   "cell_type": "code",
   "execution_count": null,
   "metadata": {},
   "outputs": [],
   "source": []
  }
 ],
 "metadata": {
  "kernelspec": {
   "display_name": "Python 3",
   "language": "python",
   "name": "python3"
  },
  "language_info": {
   "codemirror_mode": {
    "name": "ipython",
    "version": 3
   },
   "file_extension": ".py",
   "mimetype": "text/x-python",
   "name": "python",
   "nbconvert_exporter": "python",
   "pygments_lexer": "ipython3",
   "version": "3.6.5"
  }
 },
 "nbformat": 4,
 "nbformat_minor": 2
}
